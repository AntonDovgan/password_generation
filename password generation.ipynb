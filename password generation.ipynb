{
 "cells": [
  {
   "cell_type": "code",
   "execution_count": 20,
   "id": "8ab55000",
   "metadata": {},
   "outputs": [
    {
     "name": "stdout",
     "output_type": "stream",
     "text": [
      "Сколько нужно сгенирировать паролей: 10\n",
      "Введите длину пароля: 2\n",
      "Включить цифры? (Y/N): y\n"
     ]
    },
    {
     "data": {
      "text/plain": [
       "'5'"
      ]
     },
     "execution_count": 20,
     "metadata": {},
     "output_type": "execute_result"
    }
   ],
   "source": [
    "from random import *\n",
    "digits = '0123456789'\n",
    "lowercase_letters = 'abcdefghijklmnopqrstuvwxyz'\n",
    "uppercase_letters = lowercase_letters.upper()\n",
    "punctuation = \"!#$%&*+-=?@^_\"\n",
    "\n",
    "count = int(input('Сколько нужно сгенирировать паролей: '))\n",
    "length = int(input('Введите длину пароля: '))\n",
    "add_digits = input('Включить цифры? (Y/N): ')\n",
    "# add_lowercase_letters = input('Включать строчные буквы? (Y/N): ')\n",
    "# add_uppercase_letters = input('Включать прописные буквы? (Y/N): ')\n",
    "# add_punctuation = input('Включать специальные символы \"!#$%&*+-=?@^_\"? (Y/N): ')\n",
    "# rmv_bad_symbols = input('Исключить символы il1Lo0O? (Y/N):' ).strip()\n",
    "\n",
    "chars = ''\n",
    "\n",
    "if add_digits.lower() == 'y':\n",
    "    chars += digits\n",
    "elif add_lowercase_letters.lower() == 'y':\n",
    "    chars += lowercase_letters\n",
    "elif add_uppercase_letters() == 'y':\n",
    "    chars += uppercase_letters\n",
    "elif add_punctuation.lower() == 'y':\n",
    "    chars += punctuation\n",
    "elif rmv_bad_symbols.lower() == 'y':\n",
    "    for i in 'il1Lo0O':\n",
    "        chars = chars.replace(i, '')\n",
    "\n",
    "\n",
    "def generate_password(length, chars):\n",
    "    password = ''\n",
    "    for k in range(count):\n",
    "            for i in range(length):\n",
    "                password = choice(chars)\n",
    "            return password\n",
    "\n",
    "generate_password(count, chars)\n",
    "    "
   ]
  },
  {
   "cell_type": "code",
   "execution_count": null,
   "id": "c2f8404b",
   "metadata": {},
   "outputs": [],
   "source": []
  },
  {
   "cell_type": "code",
   "execution_count": null,
   "id": "5e849e87",
   "metadata": {},
   "outputs": [],
   "source": []
  }
 ],
 "metadata": {
  "kernelspec": {
   "display_name": "Python 3 (ipykernel)",
   "language": "python",
   "name": "python3"
  },
  "language_info": {
   "codemirror_mode": {
    "name": "ipython",
    "version": 3
   },
   "file_extension": ".py",
   "mimetype": "text/x-python",
   "name": "python",
   "nbconvert_exporter": "python",
   "pygments_lexer": "ipython3",
   "version": "3.7.8"
  },
  "toc": {
   "base_numbering": 1,
   "nav_menu": {},
   "number_sections": true,
   "sideBar": true,
   "skip_h1_title": false,
   "title_cell": "Table of Contents",
   "title_sidebar": "Contents",
   "toc_cell": false,
   "toc_position": {},
   "toc_section_display": true,
   "toc_window_display": false
  }
 },
 "nbformat": 4,
 "nbformat_minor": 5
}
